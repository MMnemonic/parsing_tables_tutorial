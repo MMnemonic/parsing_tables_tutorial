{
 "cells": [
  {
   "cell_type": "markdown",
   "metadata": {},
   "source": [
    "## Parsing Tables\n",
    "\n",
    "This is a current working example of the parsing and data cleanup for a **specific PDF file** (*https://www.who.int/docs/default-source/coronaviruse/situation-reports/20200121-sitrep-1-2019-ncov.pdf*), after it has been stored on your local file system. The parsing is done using the **PdfMiner Class**. We won't do a full Class overview just yet, we will just look at how it handles, parses and manages the data within this PDF and then how it converts it into a **CSV file**, storing it locally. \n"
   ]
  },
  {
   "cell_type": "markdown",
   "metadata": {},
   "source": [
    "This is the table within this PDF, that we want to extract and parse."
   ]
  },
  {
   "cell_type": "markdown",
   "metadata": {},
   "source": [
    "<img style=\"float: left;\" src=\"https://i.imgur.com/hemEyn1.png\">"
   ]
  },
  {
   "cell_type": "markdown",
   "metadata": {},
   "source": [
    "First, let's import the two main libraries that we will need to accomplish our goals:"
   ]
  },
  {
   "cell_type": "code",
   "execution_count": 1,
   "metadata": {},
   "outputs": [],
   "source": [
    "import tabula\n",
    "import pandas as pd"
   ]
  },
  {
   "cell_type": "markdown",
   "metadata": {},
   "source": [
    "Tabula (https://pypi.org/project/tabula-py/), is the module that we will use to read our PDF tables. You do not need to understand it. You only need to know that it extracts tables from PDF documents, and then converts each one of those tables into a **Pandas DataFrame**."
   ]
  },
  {
   "cell_type": "markdown",
   "metadata": {},
   "source": [
    "A **Pandas DataFrame** is a Python object that you will need to understand thoroughly. To put it simply: Pandas DataFrame is nothing but an in-memory representation of an excel sheet via Python programming language. It contains all the methods you will need in order to manipulate your extracted tables. For a lightweight intro, please read this article: https://towardsdatascience.com/pandas-dataframe-a-lightweight-intro-680e3a212b96."
   ]
  },
  {
   "cell_type": "markdown",
   "metadata": {},
   "source": [
    "But for now, let's just move on. \n",
    "\n",
    "If you scroll down to the bottom of our project file, you will see the class being initialized and its start method being called."
   ]
  },
  {
   "cell_type": "code",
   "execution_count": null,
   "metadata": {},
   "outputs": [],
   "source": [
    "pdf_parser = PdfMiner([\"data/test/20200121-sitrep-1-2019-ncov.pdf\"])\n",
    "pdf_parser.start()"
   ]
  },
  {
   "cell_type": "markdown",
   "metadata": {},
   "source": [
    "Without going into too much detail, you will see that within the **PdfMiner** class definition, there is a function that deals with the main parsing: **parse_pdf_files**. In its body there is an **IF** clause that calls a single function that will deal with this table parsing specifically. "
   ]
  },
  {
   "cell_type": "markdown",
   "metadata": {},
   "source": [
    "That function is **parse_table_example_1**."
   ]
  },
  {
   "cell_type": "code",
   "execution_count": null,
   "metadata": {},
   "outputs": [],
   "source": [
    "# parses table from Pandas DataFrame object\n",
    "def parse_table_example_1(self, df):\n",
    "    \"\"\"\n",
    "        Args:\n",
    "            df (DataFrame): Pandas DataFrame object\n",
    "        Returns:\n",
    "            Parsed DataFrame object\n",
    "    \"\"\"\n",
    "    new_columns = []\n",
    "    for i, column in enumerate(df.columns):\n",
    "        new_columns.append((column + ' ' +\n",
    "                            str(df.iloc[0, i]).replace('nan', '')).strip())\n",
    "\n",
    "    df.columns = new_columns\n",
    "    df.iloc[8, 0] = ' '.join([df.iloc[8, 0],df.iloc[9, 0]])\n",
    "    df.drop(index=[0, 9], inplace=True)\n",
    "    df.reset_index(drop=True, inplace=True)\n",
    "    df.iloc[1:6, 0] = df.iloc[0, 0]\n",
    "\n",
    "    return df"
   ]
  },
  {
   "cell_type": "markdown",
   "metadata": {},
   "source": [
    "Before we head on with function dissection, before we mention the elephant in the room -or rather, Panda in the room- let's process this PDF parsing without special treatment. Just leaving all parsing up to the existing current libraries."
   ]
  },
  {
   "cell_type": "markdown",
   "metadata": {},
   "source": [
    "This is our console output for this table. Without special treatment:"
   ]
  },
  {
   "cell_type": "markdown",
   "metadata": {},
   "source": [
    "<img style=\"float: left;\" src=\"https://i.imgur.com/CAn7JO0.png\">"
   ]
  },
  {
   "cell_type": "markdown",
   "metadata": {},
   "source": [
    "Okay, what do we need to fix here?\n",
    "* **Column Labels**\n",
    "* **Unnecessary/ Incorrect rows & cells**\n",
    "* **Null values (NaN)**\n",
    "\n",
    "Let's see how our function handles this.\n",
    "It starts by accepting a DataFrame object that contains the data representation of our table:"
   ]
  },
  {
   "cell_type": "code",
   "execution_count": null,
   "metadata": {},
   "outputs": [],
   "source": [
    "# parses table from Pandas DataFrame object (df)\n",
    "def parse_table_example_1(self, df):"
   ]
  },
  {
   "cell_type": "markdown",
   "metadata": {},
   "source": [
    "Then it will need to create new columns from the available cell data:"
   ]
  },
  {
   "cell_type": "code",
   "execution_count": null,
   "metadata": {},
   "outputs": [],
   "source": [
    "# list where new column labels will se stored\n",
    "new_columns = []\n",
    "\n",
    "# loop through each current column label (column in df.columns)\n",
    "for i, column in enumerate(df.columns):\n",
    "    # create new column label by adding the current column string and the string from the cell below it\n",
    "    new_columns.append((column + ' ' +\n",
    "                        str(df.iloc[0, i]).replace('nan', '')).strip())"
   ]
  },
  {
   "cell_type": "markdown",
   "metadata": {},
   "source": [
    "Yes, I acknowledge that the final line might be difficult to grasp, right now. \n",
    "\n",
    "The **replace** and **strip** methods are Python built-in methods to manipulate strings. We are just replacing 'nan' with an empty string \"\", then stripping the possible trailing whitespaces."
   ]
  },
  {
   "cell_type": "code",
   "execution_count": null,
   "metadata": {},
   "outputs": [],
   "source": [
    "df.iloc[0, i]"
   ]
  },
  {
   "cell_type": "markdown",
   "metadata": {},
   "source": [
    "Pandas has a **df.iloc** method which we can use to select rows and columns by the order in which they appear in the data frame. It takes two arguments where one is to specify rows and the other is to specify columns.\n",
    "\n",
    "So, here we are just selecting each of the cells below our column labels row **(index=0, column=i)**."
   ]
  },
  {
   "cell_type": "markdown",
   "metadata": {},
   "source": [
    "Very briefly, let's do a quick overview of the remaining parsing processes:"
   ]
  },
  {
   "cell_type": "code",
   "execution_count": null,
   "metadata": {},
   "outputs": [],
   "source": [
    "# assign new columns to data frame\n",
    "df.columns = new_columns\n",
    "\n",
    "# define cell [8,0] ('Total confirmed') to be cell [8, 0] + cell [9, 0] ('Total confirmed cases')\n",
    "df.iloc[8, 0] = ' '.join([df.iloc[8, 0],df.iloc[9, 0]])\n",
    "\n",
    "# drop (delete) two rows (row 0 and row 9)\n",
    "# inplace parameter - if True, mutates current DataFrame; if False, returns a new copy\n",
    "df.drop(index=[0, 9], inplace=True)\n",
    "\n",
    "# reset index (do this everytime you delete a row, even though it wasn't needed here)\n",
    "# inplace parameter - if True, mutates current DataFrame; if False, returns a new copy\n",
    "df.reset_index(drop=True, inplace=True)\n",
    "\n",
    "# set GROUP of null cells in the first column to be the same as cell [0,0] (string 'WPRO')\n",
    "df.iloc[1:6, 0] = df.iloc[0, 0]"
   ]
  },
  {
   "cell_type": "markdown",
   "metadata": {},
   "source": [
    "If you're referencing the table picture above, don't be confused by the index values. Remember that we mutated the table several times in most of these lines!\n",
    "\n",
    "Now, here's the final table, after parsing:"
   ]
  },
  {
   "cell_type": "markdown",
   "metadata": {},
   "source": [
    "<img style=\"float: left;\" src=\"https://i.imgur.com/5c8p5ue.png\">"
   ]
  },
  {
   "cell_type": "markdown",
   "metadata": {},
   "source": [
    "Now... that's more like it, right?\n",
    "\n",
    "If you're worried about the 'nan' value, there's no reason to. It won't be outputted to our final file.\n",
    "\n",
    "In our main parsing function we then use pandas **df.to_csv** to convert our DataFrame to a CSV file and store it in our local file system."
   ]
  },
  {
   "cell_type": "code",
   "execution_count": null,
   "metadata": {},
   "outputs": [],
   "source": [
    "df.to_csv(output_path, index=False, encoding='utf-8')"
   ]
  },
  {
   "cell_type": "markdown",
   "metadata": {},
   "source": [
    "Here is the final CSV file:"
   ]
  },
  {
   "cell_type": "markdown",
   "metadata": {},
   "source": [
    "<img style=\"float: left;\" src=\"https://i.imgur.com/nThPDH6.png\">"
   ]
  }
 ],
 "metadata": {
  "kernelspec": {
   "display_name": "Python 3",
   "language": "python",
   "name": "python3"
  },
  "language_info": {
   "codemirror_mode": {
    "name": "ipython",
    "version": 3
   },
   "file_extension": ".py",
   "mimetype": "text/x-python",
   "name": "python",
   "nbconvert_exporter": "python",
   "pygments_lexer": "ipython3",
   "version": "3.6.9"
  }
 },
 "nbformat": 4,
 "nbformat_minor": 4
}
